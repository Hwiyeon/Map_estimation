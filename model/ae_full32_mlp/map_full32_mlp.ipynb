{
 "cells": [
  {
   "cell_type": "markdown",
   "metadata": {},
   "source": [
    "# MLP Autoencoder"
   ]
  },
  {
   "cell_type": "code",
   "execution_count": 1,
   "metadata": {},
   "outputs": [
    {
     "name": "stdout",
     "output_type": "stream",
     "text": [
      "Current version [1.3.1]\n",
      "Packages Loaded\n"
     ]
    }
   ],
   "source": [
    "import os\n",
    "import tensorflow as tf\n",
    "import numpy as np\n",
    "from scipy import misc\n",
    "%matplotlib inline\n",
    "import matplotlib.pyplot as plt\n",
    "from tensorflow.examples.tutorials.mnist import input_data\n",
    "import tensorflow.contrib.slim as slim\n",
    "import warnings\n",
    "warnings.filterwarnings(\"ignore\", category=DeprecationWarning)  ## just for ignore DeprcationWarning message\n",
    "print(\"Current version [%s]\" %(tf.__version__))\n",
    "print(\"Packages Loaded\")"
   ]
  },
  {
   "cell_type": "markdown",
   "metadata": {},
   "source": [
    "### Configurations"
   ]
  },
  {
   "cell_type": "code",
   "execution_count": 2,
   "metadata": {},
   "outputs": [
    {
     "name": "stdout",
     "output_type": "stream",
     "text": [
      "FLAGS READY\n"
     ]
    }
   ],
   "source": [
    "# Dataset Configurations\n",
    "tf.app.flags.DEFINE_integer('img_size', 32, \"\"\"Image size of MAP dataset\"\"\")\n",
    "tf.app.flags.DEFINE_string('train_dir', './../../Rent3D-modified/crop_imgs32/train', \"\"\"Dir contains train data\"\"\")\n",
    "tf.app.flags.DEFINE_string('test_dir', './../../Rent3D-modified/crop_imgs32/test', \"\"\"Dir contains test data\"\"\")\n",
    "\n",
    "# Network Configurations\n",
    "tf.app.flags.DEFINE_integer('batch_size', 64, \"\"\"Number of images to process in a batch\"\"\")\n",
    "# tf.app.flags.DEFINE_float('l1_ratio', 0.5, \"\"\"Ratio of level1\"\"\")\n",
    "# tf.app.flags.DEFINE_float('l2_ratio', 0.5, \"\"\"Ratio of level2\"\"\")\n",
    "\n",
    "# Optimization Configurations\n",
    "tf.app.flags.DEFINE_float('lr', 0.001, \"\"\"Learning rate\"\"\")\n",
    "\n",
    "# Training Configurations\n",
    "tf.app.flags.DEFINE_integer('training_epochs', 100, \"\"\"Number of epochs to run\"\"\")\n",
    "tf.app.flags.DEFINE_integer('display_step', 10, \"\"\"Number of iterations to display training output\"\"\")\n",
    "tf.app.flags.DEFINE_integer('save_step', 10, \"\"\"Number of interations to save checkpoint\"\"\")\n",
    "tf.app.flags.DEFINE_integer('save_max', 5, \"\"\"Number of checkpoints to remain\"\"\")\n",
    "\n",
    "\n",
    "# Save Configurations\n",
    "tf.app.flags.DEFINE_string('nets', './nets', \"\"\"Directory where to write the checkpoints\"\"\")\n",
    "tf.app.flags.DEFINE_string('outputs', './outputs', \"\"\"Directory where to save the output images\"\"\")\n",
    "tf.app.flags.DEFINE_string('tboard', './tensorboard', \"\"\"Directory where to save the tensorboard logs\"\"\")\n",
    "\n",
    "\n",
    "FLAGS = tf.app.flags.FLAGS\n",
    "print(\"FLAGS READY\")"
   ]
  },
  {
   "cell_type": "markdown",
   "metadata": {},
   "source": [
    "### GPU control"
   ]
  },
  {
   "cell_type": "code",
   "execution_count": 3,
   "metadata": {},
   "outputs": [],
   "source": [
    "config = tf.ConfigProto()\n",
    "config.gpu_options.allow_growth = True\n",
    "config.allow_soft_placement = True"
   ]
  },
  {
   "cell_type": "markdown",
   "metadata": {},
   "source": [
    "### Load Data"
   ]
  },
  {
   "cell_type": "code",
   "execution_count": 4,
   "metadata": {},
   "outputs": [
    {
     "name": "stdout",
     "output_type": "stream",
     "text": [
      "Data loaded\n"
     ]
    }
   ],
   "source": [
    "train_dir = FLAGS.train_dir\n",
    "train_img = os.listdir(train_dir)\n",
    "train_img.sort()\n",
    "\n",
    "test_dir = FLAGS.test_dir\n",
    "test_img = os.listdir(test_dir)\n",
    "test_img.sort()\n",
    "\n",
    "def gray_mask(_img):\n",
    "    mask = (_img!=128).astype(float)\n",
    "    return mask\n",
    "    \n",
    "def norm_read(_dir,_id):\n",
    "    _img = np.reshape(misc.imread(_dir+'/'+_id), [-1])\n",
    "    mask = gray_mask(_img)\n",
    "    return _img.astype(float)/255., mask\n",
    "\n",
    "def certain_region(_img, _mask):\n",
    "    certain = np.multiply(_img, _mask)\n",
    "    return certain\n",
    "\n",
    "print(\"Data loaded\")"
   ]
  },
  {
   "cell_type": "markdown",
   "metadata": {},
   "source": [
    "### Generating observation mask"
   ]
  },
  {
   "cell_type": "code",
   "execution_count": 5,
   "metadata": {},
   "outputs": [],
   "source": [
    "def observe_mask():\n",
    "    mask = np.zeros([FLAGS.img_size, FLAGS.img_size])\n",
    "    # threshold of the size of masks\n",
    "    uthd = FLAGS.img_size    \n",
    "    lthd = 0     \n",
    "    # mask size should be beween 48x48, 16x16\n",
    "    while(uthd>48 or lthd<16):\n",
    "        ver1 = np.random.random_integers(0, FLAGS.img_size-1, size= 2)   # vertex1\n",
    "        ver2 = np.random.random_integers(0, FLAGS.img_size-1, size= 2)    # vertex2\n",
    "        uthd = np.maximum(np.abs(ver1[0]-ver2[0]), np.abs(ver1[1]-ver2[1]))    # upperbound\n",
    "        lthd = np.minimum(np.abs(ver1[0]-ver2[0]), np.abs(ver1[1]-ver2[1]))    # lowerbound\n",
    "    xmin = np.minimum(ver1[0], ver2[0])    # left x value\n",
    "    xmax = np.maximum(ver1[0], ver2[0])    # right x value\n",
    "    ymin = np.minimum(ver1[1], ver2[1])    # top y value\n",
    "    ymax = np.maximum(ver1[1], ver2[1])    # bottom y value\n",
    "    observe = np.ones([xmax-xmin+1, ymax-ymin+1])    # observation area\n",
    "    mask[xmin:xmax+1, ymin:ymax+1] = observe    # observation with location\n",
    "#     mask = np.reshape(mask, [-1])\n",
    "    return mask\n",
    "\n",
    "def observe_batch(batch_num):\n",
    "    # make random noise batch\n",
    "    mask_batch = np.zeros([batch_num, FLAGS.img_size,FLAGS.img_size])\n",
    "    for i in range(batch_num):\n",
    "        mask_batch[i] = observe_mask()\n",
    "    return mask_batch\n",
    "\n",
    "def observe(full, obs):\n",
    "    return np.multiply(full, obs)"
   ]
  },
  {
   "cell_type": "markdown",
   "metadata": {},
   "source": [
    "### Graph setup"
   ]
  },
  {
   "cell_type": "code",
   "execution_count": 6,
   "metadata": {},
   "outputs": [
    {
     "name": "stdout",
     "output_type": "stream",
     "text": [
      "Network Ready\n"
     ]
    }
   ],
   "source": [
    "# Network Topology\n",
    "n_input = FLAGS.img_size*FLAGS.img_size\n",
    "n_enc1 = 512\n",
    "n_enc2 = 256\n",
    "n_enc3 = 128\n",
    "n_dec1 = 256\n",
    "n_dec2 = 512\n",
    "n_out = FLAGS.img_size*FLAGS.img_size\n",
    "\n",
    "# Inputs and Outputs\n",
    "_map = tf.placeholder(\"float\", [None, n_input])\n",
    "_gmask = tf.placeholder(\"float\", [None, n_input])\n",
    "\n",
    "# Nework Parameters\n",
    "def mlp_ae(_input):\n",
    "    init = tf.random_normal_initializer(stddev=0.1)\n",
    "    enc1 = slim.fully_connected(_input, n_enc1, activation_fn=tf.nn.sigmoid, weights_initializer=init, scope='enc1')\n",
    "    enc2 = slim.fully_connected(_input, n_enc2, activation_fn=tf.nn.sigmoid, weights_initializer=init, scope='enc2')\n",
    "    enc3 = slim.fully_connected(_input, n_enc3, activation_fn=tf.nn.sigmoid, weights_initializer=init, scope='enc3')\n",
    "    dec1 = slim.fully_connected(_input, n_dec1, activation_fn=tf.nn.sigmoid, weights_initializer=init, scope='dec1')\n",
    "    dec2 = slim.fully_connected(_input, n_dec2, activation_fn=tf.nn.sigmoid, weights_initializer=init, scope='dec2')\n",
    "    out = slim.fully_connected(_input, n_out, activation_fn=tf.nn.sigmoid, weights_initializer=init, scope='out')\n",
    "    return out\n",
    "\n",
    "gen = mlp_ae(_map)\n",
    "# Loss & Optimizer\n",
    "with tf.name_scope(\"loss\") as scope:\n",
    "#     loss = tf.reduce_sum(tf.abs(gen-y))\n",
    "    loss = tf.reduce_mean(tf.nn.l2_loss(certain_region(gen-_map, _gmask)))\n",
    "#     loss = tf.reduce_mean(tf.nn.l2_loss(gen-_map))\n",
    "    _train_loss = tf.summary.scalar(\"train_loss\", loss)\n",
    "    _test_loss = tf.summary.scalar(\"test_loss\", loss)\n",
    "    \n",
    "optm = tf.train.AdamOptimizer(learning_rate=FLAGS.lr).minimize(loss)\n",
    "\n",
    "print(\"Network Ready\")"
   ]
  },
  {
   "cell_type": "markdown",
   "metadata": {},
   "source": [
    "### Initialize"
   ]
  },
  {
   "cell_type": "code",
   "execution_count": 7,
   "metadata": {},
   "outputs": [
    {
     "name": "stdout",
     "output_type": "stream",
     "text": [
      "Initialize Ready\n"
     ]
    }
   ],
   "source": [
    "merged = tf.summary.merge_all()\n",
    "tensorboard_path = FLAGS.tboard\n",
    "if not os.path.exists(tensorboard_path):\n",
    "    os.makedirs(tensorboard_path)\n",
    "writer = tf.summary.FileWriter(tensorboard_path)\n",
    "init = tf.global_variables_initializer()\n",
    "\n",
    "print(\"Initialize Ready\")"
   ]
  },
  {
   "cell_type": "markdown",
   "metadata": {},
   "source": [
    "### Data saving"
   ]
  },
  {
   "cell_type": "code",
   "execution_count": 8,
   "metadata": {},
   "outputs": [
    {
     "name": "stdout",
     "output_type": "stream",
     "text": [
      "Saver ready\n"
     ]
    }
   ],
   "source": [
    "outputdir = FLAGS.outputs\n",
    "if not os.path.exists(outputdir+'/train'):\n",
    "    os.makedirs(outputdir+'/train')\n",
    "\n",
    "if not os.path.exists(outputdir+'/test'):\n",
    "    os.makedirs(outputdir+'/test')\n",
    "    \n",
    "savedir = FLAGS.nets\n",
    "if not os.path.exists(savedir):\n",
    "    os.makedirs(savedir)\n",
    "    \n",
    "saver = tf.train.Saver(max_to_keep=FLAGS.save_max)\n",
    "print(\"Saver ready\")"
   ]
  },
  {
   "cell_type": "markdown",
   "metadata": {},
   "source": [
    "### Run"
   ]
  },
  {
   "cell_type": "code",
   "execution_count": 9,
   "metadata": {},
   "outputs": [
    {
     "name": "stdout",
     "output_type": "stream",
     "text": [
      "Epoch : 001/100  Train_loss : 2585.1091309  Test_loss : 3216.8586426\n",
      "Epoch : 002/100  Train_loss : 2226.6215820  Test_loss : 2412.1076660\n",
      "Epoch : 003/100  Train_loss : 1447.8105469  Test_loss : 1852.8392334\n",
      "Epoch : 004/100  Train_loss : 1363.7631836  Test_loss : 1559.2247314\n",
      "Epoch : 005/100  Train_loss : 1099.1065674  Test_loss : 1223.4304199\n",
      "Epoch : 006/100  Train_loss : 816.4476318  Test_loss : 1145.7045898\n",
      "Epoch : 007/100  Train_loss : 683.3843994  Test_loss : 748.0148926\n",
      "Epoch : 008/100  Train_loss : 712.1752930  Test_loss : 793.9008789\n",
      "Epoch : 009/100  Train_loss : 552.5515747  Test_loss : 645.6970215\n",
      "Epoch : 010/100  Train_loss : 517.6941528  Test_loss : 622.3126831\n",
      "[./nets/net-10.ckpt] SAVED\n",
      "Epoch : 011/100  Train_loss : 451.9730530  Test_loss : 510.2887268\n",
      "Epoch : 012/100  Train_loss : 345.3495483  Test_loss : 494.3038025\n",
      "Epoch : 013/100  Train_loss : 341.8293762  Test_loss : 499.3101501\n",
      "Epoch : 014/100  Train_loss : 314.2414551  Test_loss : 431.1618042\n",
      "Epoch : 015/100  Train_loss : 319.6161804  Test_loss : 382.0362549\n",
      "Epoch : 016/100  Train_loss : 290.4680176  Test_loss : 413.1016541\n",
      "Epoch : 017/100  Train_loss : 261.9674377  Test_loss : 397.5348206\n",
      "Epoch : 018/100  Train_loss : 319.9599609  Test_loss : 289.1537170\n",
      "Epoch : 019/100  Train_loss : 209.0115356  Test_loss : 383.1974182\n",
      "Epoch : 020/100  Train_loss : 219.3379211  Test_loss : 402.4356079\n",
      "[./nets/net-20.ckpt] SAVED\n",
      "Epoch : 021/100  Train_loss : 198.3627777  Test_loss : 311.7156067\n",
      "Epoch : 022/100  Train_loss : 178.6354218  Test_loss : 288.0401001\n",
      "Epoch : 023/100  Train_loss : 164.5138550  Test_loss : 262.2510071\n",
      "Epoch : 024/100  Train_loss : 163.2929993  Test_loss : 281.1286621\n",
      "Epoch : 025/100  Train_loss : 147.2289581  Test_loss : 261.1835327\n",
      "Epoch : 026/100  Train_loss : 178.3140564  Test_loss : 237.5085907\n",
      "Epoch : 027/100  Train_loss : 126.9134750  Test_loss : 304.3940430\n",
      "Epoch : 028/100  Train_loss : 165.0224304  Test_loss : 260.3858643\n",
      "Epoch : 029/100  Train_loss : 119.5346222  Test_loss : 225.7089844\n",
      "Epoch : 030/100  Train_loss : 160.3416595  Test_loss : 272.5245972\n",
      "[./nets/net-30.ckpt] SAVED\n",
      "Epoch : 031/100  Train_loss : 92.0909348  Test_loss : 206.5506439\n",
      "Epoch : 032/100  Train_loss : 107.9337692  Test_loss : 194.4421844\n",
      "Epoch : 033/100  Train_loss : 87.4587936  Test_loss : 250.5843201\n",
      "Epoch : 034/100  Train_loss : 81.4199524  Test_loss : 230.4329834\n",
      "Epoch : 035/100  Train_loss : 99.8378067  Test_loss : 188.9368744\n",
      "Epoch : 036/100  Train_loss : 73.8218460  Test_loss : 136.6762543\n",
      "Epoch : 037/100  Train_loss : 91.2017365  Test_loss : 249.9288940\n",
      "Epoch : 038/100  Train_loss : 88.3827362  Test_loss : 173.8444977\n",
      "Epoch : 039/100  Train_loss : 80.1692581  Test_loss : 189.3528442\n",
      "Epoch : 040/100  Train_loss : 87.3683853  Test_loss : 175.2669373\n",
      "[./nets/net-40.ckpt] SAVED\n",
      "Epoch : 041/100  Train_loss : 86.4399567  Test_loss : 189.4867096\n",
      "Epoch : 042/100  Train_loss : 81.3637085  Test_loss : 180.1771240\n",
      "Epoch : 043/100  Train_loss : 62.0585632  Test_loss : 165.9575958\n",
      "Epoch : 044/100  Train_loss : 56.4349785  Test_loss : 161.7864990\n",
      "Epoch : 045/100  Train_loss : 56.3703957  Test_loss : 209.0999756\n",
      "Epoch : 046/100  Train_loss : 55.8302040  Test_loss : 146.0936279\n",
      "Epoch : 047/100  Train_loss : 54.5999451  Test_loss : 138.5834656\n",
      "Epoch : 048/100  Train_loss : 49.4641571  Test_loss : 160.2771149\n",
      "Epoch : 049/100  Train_loss : 46.4439316  Test_loss : 139.8453064\n",
      "Epoch : 050/100  Train_loss : 58.7123947  Test_loss : 157.1296997\n",
      "[./nets/net-50.ckpt] SAVED\n",
      "Epoch : 051/100  Train_loss : 34.8943138  Test_loss : 159.5700531\n",
      "Epoch : 052/100  Train_loss : 42.1450233  Test_loss : 126.6899033\n",
      "Epoch : 053/100  Train_loss : 44.0796165  Test_loss : 143.4213867\n",
      "Epoch : 054/100  Train_loss : 43.6413460  Test_loss : 161.6966095\n",
      "Epoch : 055/100  Train_loss : 38.8935280  Test_loss : 178.2555542\n",
      "Epoch : 056/100  Train_loss : 40.3607559  Test_loss : 161.4269714\n",
      "Epoch : 057/100  Train_loss : 43.2779694  Test_loss : 122.4603577\n",
      "Epoch : 058/100  Train_loss : 34.8445816  Test_loss : 155.2762451\n",
      "Epoch : 059/100  Train_loss : 34.5390625  Test_loss : 99.9343872\n",
      "Epoch : 060/100  Train_loss : 30.1060047  Test_loss : 125.7484894\n",
      "[./nets/net-60.ckpt] SAVED\n",
      "Epoch : 061/100  Train_loss : 27.3416634  Test_loss : 110.2473068\n",
      "Epoch : 062/100  Train_loss : 28.9279461  Test_loss : 130.1093292\n",
      "Epoch : 063/100  Train_loss : 26.6949749  Test_loss : 121.4586258\n",
      "Epoch : 064/100  Train_loss : 22.6551323  Test_loss : 141.8328094\n",
      "Epoch : 065/100  Train_loss : 24.8527317  Test_loss : 119.6698685\n",
      "Epoch : 066/100  Train_loss : 19.6351585  Test_loss : 75.8476105\n",
      "Epoch : 067/100  Train_loss : 24.5713139  Test_loss : 126.3355713\n",
      "Epoch : 068/100  Train_loss : 22.2460155  Test_loss : 120.9612732\n",
      "Epoch : 069/100  Train_loss : 18.3682423  Test_loss : 78.1697235\n",
      "Epoch : 070/100  Train_loss : 20.6957150  Test_loss : 117.9199219\n",
      "[./nets/net-70.ckpt] SAVED\n",
      "Epoch : 071/100  Train_loss : 21.2357197  Test_loss : 95.5109787\n",
      "Epoch : 072/100  Train_loss : 21.7242851  Test_loss : 89.6231308\n",
      "Epoch : 073/100  Train_loss : 16.6284180  Test_loss : 73.6265259\n",
      "Epoch : 074/100  Train_loss : 14.7746000  Test_loss : 75.7013931\n",
      "Epoch : 075/100  Train_loss : 17.7184219  Test_loss : 123.0564117\n",
      "Epoch : 076/100  Train_loss : 15.3902264  Test_loss : 90.8665314\n",
      "Epoch : 077/100  Train_loss : 13.5656157  Test_loss : 107.2543640\n",
      "Epoch : 078/100  Train_loss : 15.2430687  Test_loss : 88.0299759\n",
      "Epoch : 079/100  Train_loss : 13.8889771  Test_loss : 124.2238617\n",
      "Epoch : 080/100  Train_loss : 14.3571815  Test_loss : 94.5321579\n",
      "[./nets/net-80.ckpt] SAVED\n",
      "Epoch : 081/100  Train_loss : 12.7116165  Test_loss : 75.6632233\n",
      "Epoch : 082/100  Train_loss : 13.2134380  Test_loss : 72.0463943\n",
      "Epoch : 083/100  Train_loss : 11.1174612  Test_loss : 71.1892624\n",
      "Epoch : 084/100  Train_loss : 10.1307793  Test_loss : 113.1505508\n",
      "Epoch : 085/100  Train_loss : 11.7400827  Test_loss : 112.8402100\n",
      "Epoch : 086/100  Train_loss : 11.3304720  Test_loss : 95.5320282\n",
      "Epoch : 087/100  Train_loss : 8.7532053  Test_loss : 53.9114037\n",
      "Epoch : 088/100  Train_loss : 9.4360323  Test_loss : 83.5283203\n",
      "Epoch : 089/100  Train_loss : 9.4684315  Test_loss : 111.3204498\n",
      "Epoch : 090/100  Train_loss : 9.8770638  Test_loss : 74.7653198\n",
      "[./nets/net-90.ckpt] SAVED\n",
      "Epoch : 091/100  Train_loss : 9.8411646  Test_loss : 58.2682152\n",
      "Epoch : 092/100  Train_loss : 8.8257494  Test_loss : 67.6628647\n",
      "Epoch : 093/100  Train_loss : 8.7514553  Test_loss : 80.2911530\n",
      "Epoch : 094/100  Train_loss : 9.1684904  Test_loss : 66.2285156\n",
      "Epoch : 095/100  Train_loss : 7.9813867  Test_loss : 91.8760376\n",
      "Epoch : 096/100  Train_loss : 7.2972989  Test_loss : 79.4872818\n",
      "Epoch : 097/100  Train_loss : 8.2887726  Test_loss : 93.7267303\n",
      "Epoch : 098/100  Train_loss : 8.2283926  Test_loss : 80.2228317\n",
      "Epoch : 099/100  Train_loss : 7.2631540  Test_loss : 66.4539032\n",
      "Epoch : 100/100  Train_loss : 7.2988615  Test_loss : 76.0066681\n",
      "[./nets/net-100.ckpt] SAVED\n",
      "Optimization Finished\n"
     ]
    }
   ],
   "source": [
    "#%%debug\n",
    "# Parameters\n",
    "training_epochs = FLAGS.training_epochs\n",
    "batch_size = FLAGS.batch_size\n",
    "display_step = FLAGS.display_step\n",
    "# Plot\n",
    "n_plot = 5    # plot 5 images\n",
    "train_disp_idx = np.copy(np.random.choice(train_img, size=n_plot, replace=False))    # fixed during train time\n",
    "test_disp_idx = np.copy(np.random.choice(test_img, size=n_plot, replace=False))\n",
    "with tf.device('/cpu:0'):\n",
    "    train_disp_img = []\n",
    "    train_disp_img_gm = []    # gray mask\n",
    "    test_disp_img = []\n",
    "    test_disp_img_gm = []\n",
    "    for img in range(n_plot):\n",
    "        train_disp_img.append(norm_read(train_dir,train_disp_idx[img])[0])\n",
    "        train_disp_img_gm.append(norm_read(train_dir,train_disp_idx[img])[1])\n",
    "        test_disp_img.append(norm_read(test_dir,test_disp_idx[img])[0])\n",
    "        test_disp_img_gm.append(norm_read(test_dir,test_disp_idx[img])[1])\n",
    "    train_disp_crt = certain_region(train_disp_img, train_disp_img_gm)\n",
    "    test_disp_crt = certain_region(test_disp_img, test_disp_img_gm)\n",
    "\n",
    "# Initialize\n",
    "sess = tf.Session(config=config)\n",
    "sess.run(init)\n",
    "\n",
    "# Optimize\n",
    "for epoch in range(training_epochs):\n",
    "    total_cost = 0.\n",
    "    n_total_batch = int(np.size(train_img)/batch_size)\n",
    "    rand_train_idx = np.random.choice(train_img, size=batch_size, replace=False)    # For display losses\n",
    "    rand_test_idx = np.random.choice(test_img, size=batch_size, replace=False)    # For display losses\n",
    "    \n",
    "    np.random.seed(epoch)\n",
    "    np.random.shuffle(train_img)\n",
    "        \n",
    "    # Iteration\n",
    "    for batch in range(n_total_batch):\n",
    "        with tf.device('/cpu:0'):\n",
    "            batch_img = []\n",
    "            batch_img_gm = []\n",
    "            for img in range(batch_size):\n",
    "                batch_img.append(norm_read(train_dir,train_img[batch*batch_size + img])[0])\n",
    "                batch_img_gm.append(norm_read(train_dir,train_img[batch*batch_size + img])[1])\n",
    "            feeds = {_map: batch_img, _gmask:batch_img_gm}\n",
    "        sess.run(optm, feed_dict=feeds)\n",
    "    \n",
    "    with tf.device('/cpu:0'):\n",
    "        train_batch_img = []\n",
    "        train_batch_img_gm = []\n",
    "        test_batch_img = []\n",
    "        test_batch_img_gm = []\n",
    "        for img in range(batch_size):\n",
    "            train_batch_img.append(norm_read(train_dir,rand_train_idx[img])[0])\n",
    "            train_batch_img_gm.append(norm_read(train_dir,rand_train_idx[img])[1])\n",
    "            test_batch_img.append(norm_read(test_dir,rand_test_idx[img])[0])\n",
    "            test_batch_img_gm.append(norm_read(test_dir,rand_test_idx[img])[1])\n",
    "        train_feeds = {_map: train_batch_img, _gmask:train_batch_img_gm}\n",
    "        test_feeds = {_map: test_batch_img, _gmask:test_batch_img_gm}\n",
    "    train_loss, tb_train_loss = sess.run([loss,_train_loss], feed_dict=train_feeds)\n",
    "    test_loss, tb_test_loss = sess.run([loss,_test_loss], feed_dict=test_feeds)\n",
    "    \n",
    "    writer.add_summary(tb_train_loss, epoch)\n",
    "    writer.add_summary(tb_test_loss, epoch)\n",
    "    print(\"Epoch : %03d/%03d  Train_loss : %.7f  Test_loss : %.7f\" \n",
    "          % (epoch+1, training_epochs, train_loss, test_loss))   \n",
    "        \n",
    "    # Display\n",
    "    if (epoch+1) % display_step == 0:\n",
    "        # generated images\n",
    "        train_gen_full = sess.run(gen, feed_dict={_map:train_disp_img})  \n",
    "        test_gen_full = sess.run(gen, feed_dict={_map:test_disp_img})\n",
    "        \n",
    "        train_gen_full_crt = certain_region(train_gen_full, train_disp_img_gm)\n",
    "        test_gen_full_crt = certain_region(test_gen_full, test_disp_img_gm)\n",
    "        \n",
    "        # plotting results from training data\n",
    "        fig, axes = plt.subplots(nrows=4, ncols=n_plot, figsize=(10,10))   # displaying 4*n_plot images\n",
    "        plt.setp(axes, xticks=np.arange(0,31,8), yticks=np.arange(0,31,8)) \n",
    "        for j in range(n_plot):\n",
    "            train_disp_full_map = np.reshape(train_disp_img[j], [32,32])    # 28x28\n",
    "            axes[0, j].imshow(train_disp_full_map, cmap='gray')   \n",
    "            axes[0, j].set(ylabel='gt_map')\n",
    "            axes[0, j].label_outer()\n",
    "            \n",
    "            train_crt = np.reshape(train_disp_crt[j], [32,32])    # 28x28\n",
    "            axes[1, j].imshow(train_crt, cmap='gray')   \n",
    "            axes[1, j].set(ylabel='certain')\n",
    "            axes[1, j].label_outer()\n",
    "            \n",
    "            train_disp_gen_full = np.reshape(train_gen_full[j], [32,32])    # 28x28\n",
    "            axes[2, j].imshow(train_disp_gen_full, cmap='gray')   \n",
    "            axes[2, j].set(ylabel='full_map')\n",
    "            axes[2, j].label_outer()\n",
    "            \n",
    "            train_disp_gen_full_crt = np.reshape(train_gen_full_crt[j], [32,32])    # 28x28\n",
    "            axes[3, j].imshow(train_disp_gen_full_crt, cmap='gray')   \n",
    "            axes[3, j].set(ylabel='full_map_crt')\n",
    "            axes[3, j].label_outer()\n",
    "                    \n",
    "        plt.savefig(outputdir+'/train/epoch %03d' %(epoch+1))    \n",
    "        plt.close(fig)\n",
    "        \n",
    "        # plotting results from testing data\n",
    "        fig, axes = plt.subplots(nrows=4, ncols=n_plot, figsize=(10,10))   # displaying 4*n_plot images\n",
    "        plt.setp(axes, xticks=np.arange(0,31,8), yticks=np.arange(0,31,8)) \n",
    "        for j in range(n_plot):\n",
    "            test_disp_full_map = np.reshape(test_disp_img[j], [32,32])    # 28x28\n",
    "            axes[0, j].imshow(test_disp_full_map, cmap='gray')   \n",
    "            axes[0, j].set(ylabel='gt_map')\n",
    "            axes[0, j].label_outer()\n",
    "            \n",
    "            test_crt = np.reshape(test_disp_crt[j], [32,32])    # 28x28\n",
    "            axes[1, j].imshow(test_crt, cmap='gray')   \n",
    "            axes[1, j].set(ylabel='certain')\n",
    "            axes[1, j].label_outer()\n",
    "            \n",
    "            test_disp_gen_full = np.reshape(test_gen_full[j], [32,32])    # 28x28\n",
    "            axes[2, j].imshow(test_disp_gen_full, cmap='gray')   \n",
    "            axes[2, j].set(ylabel='full_map')\n",
    "            axes[2, j].label_outer()        \n",
    "            \n",
    "            test_disp_gen_full_crt = np.reshape(test_gen_full_crt[j], [32,32])    # 28x28\n",
    "            axes[3, j].imshow(test_disp_gen_full_crt, cmap='gray')   \n",
    "            axes[3, j].set(ylabel='full_map_crt')\n",
    "            axes[3, j].label_outer()\n",
    "                                \n",
    "        plt.savefig(outputdir+'/test/epoch %03d' %(epoch+1))    \n",
    "        plt.close(fig)\n",
    "        \n",
    "        # Save\n",
    "        if (epoch+1) % FLAGS.save_step ==0:\n",
    "            savename = savedir+\"/net-\"+str(epoch+1)+\".ckpt\"\n",
    "            saver.save(sess, savename)\n",
    "            print(\"[%s] SAVED\" % (savename))\n",
    "\n",
    "print(\"Optimization Finished\")"
   ]
  },
  {
   "cell_type": "markdown",
   "metadata": {},
   "source": [
    "### Restore"
   ]
  },
  {
   "cell_type": "code",
   "execution_count": 10,
   "metadata": {},
   "outputs": [
    {
     "name": "stdout",
     "output_type": "stream",
     "text": [
      "INFO:tensorflow:Restoring parameters from ./nets/net-100.ckpt\n",
      "NETWORK RESTORED\n"
     ]
    }
   ],
   "source": [
    "do_restore = 1\n",
    "if do_restore == 1:\n",
    "    sess = tf.Session()\n",
    "    epoch = 100\n",
    "    savename = savedir+\"/net-\"+str(epoch)+\".ckpt\"\n",
    "    saver.restore(sess, savename)\n",
    "    print (\"NETWORK RESTORED\")\n",
    "else:\n",
    "    print (\"DO NOTHING\")"
   ]
  },
  {
   "cell_type": "markdown",
   "metadata": {},
   "source": [
    "### Test"
   ]
  },
  {
   "cell_type": "code",
   "execution_count": 12,
   "metadata": {},
   "outputs": [
    {
     "data": {
      "image/png": "[encoded data removed]",
      "text/plain": [
       "<matplotlib.figure.Figure at 0x7fe2e1c4bb10>"
      ]
     },
     "metadata": {},
     "output_type": "display_data"
    }
   ],
   "source": [
    "n_plot = 5    # plot 5 images\n",
    "test_disp_idx = np.copy(np.random.choice(test_img, size=n_plot, replace=False))\n",
    "with tf.device('/cpu:0'):\n",
    "    test_disp_img = []\n",
    "    test_disp_img_gm = []\n",
    "    for img in range(n_plot):\n",
    "        test_disp_img.append(norm_read(test_dir,test_disp_idx[img])[0])\n",
    "        test_disp_img_gm.append(norm_read(test_dir,test_disp_idx[img])[1])\n",
    "    test_disp_crt = certain_region(test_disp_img, test_disp_img_gm)\n",
    "    \n",
    "test_gen_full = sess.run(gen, feed_dict={_map:test_disp_img})\n",
    "test_gen_full_crt = certain_region(test_gen_full, test_disp_img_gm)\n",
    "\n",
    "# plotting results from testing data\n",
    "fig, axes = plt.subplots(nrows=4, ncols=n_plot, figsize=(10,10))   # displaying 4*n_plot images\n",
    "plt.setp(axes, xticks=np.arange(0,31,8), yticks=np.arange(0,31,8)) \n",
    "for j in range(n_plot):\n",
    "    test_disp_full_map = np.reshape(test_disp_img[j], [32,32])    # 28x28\n",
    "    axes[0, j].imshow(test_disp_full_map, cmap='gray')   \n",
    "    axes[0, j].set(ylabel='gt_map')\n",
    "    axes[0, j].label_outer()\n",
    "\n",
    "    test_crt = np.reshape(test_disp_crt[j], [32,32])    # 28x28\n",
    "    axes[1, j].imshow(test_crt, cmap='gray')   \n",
    "    axes[1, j].set(ylabel='certain')\n",
    "    axes[1, j].label_outer()\n",
    "\n",
    "    test_disp_gen_full = np.reshape(test_gen_full[j], [32,32])    # 28x28\n",
    "    axes[2, j].imshow(test_disp_gen_full, cmap='gray')   \n",
    "    axes[2, j].set(ylabel='full_map')\n",
    "    axes[2, j].label_outer()        \n",
    "\n",
    "    test_disp_gen_full_crt = np.reshape(test_gen_full_crt[j], [32,32])    # 28x28\n",
    "    axes[3, j].imshow(test_disp_gen_full_crt, cmap='gray')   \n",
    "    axes[3, j].set(ylabel='full_map_crt')\n",
    "    axes[3, j].label_outer()\n"
   ]
  },
  {
   "cell_type": "code",
   "execution_count": null,
   "metadata": {},
   "outputs": [],
   "source": []
  },
  {
   "cell_type": "code",
   "execution_count": null,
   "metadata": {},
   "outputs": [],
   "source": []
  }
 ],
 "metadata": {
  "kernelspec": {
   "display_name": "Python 2",
   "language": "python",
   "name": "python2"
  },
  "language_info": {
   "codemirror_mode": {
    "name": "ipython",
    "version": 2
   },
   "file_extension": ".py",
   "mimetype": "text/x-python",
   "name": "python",
   "nbconvert_exporter": "python",
   "pygments_lexer": "ipython2",
   "version": "2.7.12"
  }
 },
 "nbformat": 4,
 "nbformat_minor": 2
}
